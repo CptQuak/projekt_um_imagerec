{
 "cells": [
  {
   "cell_type": "code",
   "execution_count": 1,
   "metadata": {},
   "outputs": [],
   "source": [
    "import torch\n",
    "from torch.utils.data import DataLoader\n",
    "from torchvision import transforms\n",
    "from torchvision.datasets import ImageFolder\n",
    "from torchvision.models import resnet18, ResNet18_Weights\n",
    "from torch import nn\n",
    "import numpy as np\n",
    "import matplotlib.pyplot as plt\n",
    "import utils\n",
    "\n",
    "torch.manual_seed(421)\n",
    "# if gpu available else cpu\n",
    "device = torch.device(0) if torch.cuda.is_available() else torch.device('cpu')\n",
    "TRAIN_MEAN = [0.5036, 0.4719, 0.3897]\n",
    "TRAIN_STD = [0.2623, 0.2577, 0.2671]\n",
    "classes = ['butterfly','cat', 'chicken', 'cow', 'dog', 'elephant', 'horse', 'sheep', 'spider', 'squirrel']"
   ]
  },
  {
   "attachments": {},
   "cell_type": "markdown",
   "metadata": {},
   "source": [
    "## Przygotowanie danych"
   ]
  },
  {
   "cell_type": "code",
   "execution_count": 2,
   "metadata": {},
   "outputs": [],
   "source": [
    "# zdefiniowanie operacji na kazdym obrazie w zbiorze\n",
    "transform = transforms.Compose([\n",
    "    transforms.RandomResizedCrop(256),  #  na 256x256\n",
    "    transforms.RandomHorizontalFlip(),  # wycinamy losowy fragment 128x128\n",
    "    transforms.ToTensor(),              # obrazy zamieniamy na tensory,\n",
    "    # srednie i odchylenia po kanałach całęgo zbioru,\n",
    "    #  wyliczone wczesniej za pomocą utils.data_normalize_values\n",
    "    transforms.Normalize(TRAIN_MEAN, TRAIN_STD)\n",
    "])\n",
    "\n",
    "# loader danych z batchami\n",
    "train_data = ImageFolder(root='dataset/train/', transform=transform)\n",
    "test_data = ImageFolder(root='dataset/test/', transform=transform)\n",
    "batch_size = 32\n",
    "train_loader = DataLoader(train_data, batch_size=batch_size, shuffle=True)\n",
    "test_loader = DataLoader(test_data, batch_size=batch_size)"
   ]
  },
  {
   "attachments": {},
   "cell_type": "markdown",
   "metadata": {},
   "source": [
    "## Uczenie klasyfikatora"
   ]
  },
  {
   "cell_type": "code",
   "execution_count": 3,
   "metadata": {},
   "outputs": [
    {
     "name": "stdout",
     "output_type": "stream",
     "text": [
      "Progress: 1/5 epochs\n",
      "Epoch: 1, Loss 1.942, Train acc: 0.318, Test acc: 0.383\n",
      "Progress: 2/5 epochs\n",
      "Epoch: 2, Loss 1.615, Train acc: 0.442, Test acc: 0.464\n",
      "Progress: 3/5 epochs\n",
      "Epoch: 3, Loss 1.465, Train acc: 0.495, Test acc: 0.466\n",
      "Progress: 4/5 epochs\n",
      "Epoch: 4, Loss 1.355, Train acc: 0.536, Test acc: 0.547\n",
      "Progress: 5/5 epochs\n",
      "Epoch: 5, Loss 1.261, Train acc: 0.566, Test acc: 0.502\n"
     ]
    }
   ],
   "source": [
    "# RESNET18 z wagami przetrenowanymi na zbiorze IMAGENET\n",
    "res_net_model = resnet18(weights=None)\n",
    "# res_net_model = resnet18(weights=ResNet18_Weights.IMAGENET1K_V1)\n",
    "# dostosowanie ostatniego layeru do problemu\n",
    "res_net_model.fc = nn.Linear(res_net_model.fc.in_features, len(classes))\n",
    "# inicjalizacja wag w warstwie wyjsciowej\n",
    "nn.init.xavier_uniform_(res_net_model.fc.weight)\n",
    "\n",
    "\n",
    "res_net_model = res_net_model.to(device)\n",
    "metrics = utils.train_fine_tuning(\n",
    "    model = res_net_model, \n",
    "    learning_rate= 5e-4, \n",
    "    train_loader=train_loader,\n",
    "    test_loader=test_loader,\n",
    "    device=device, num_epochs=5, param_group=False\n",
    ")"
   ]
  }
 ],
 "metadata": {
  "kernelspec": {
   "display_name": "Python 3.9.13 ('pytorch')",
   "language": "python",
   "name": "python3"
  },
  "language_info": {
   "codemirror_mode": {
    "name": "ipython",
    "version": 3
   },
   "file_extension": ".py",
   "mimetype": "text/x-python",
   "name": "python",
   "nbconvert_exporter": "python",
   "pygments_lexer": "ipython3",
   "version": "3.9.13 (main, Aug 25 2022, 23:51:50) [MSC v.1916 64 bit (AMD64)]"
  },
  "orig_nbformat": 4,
  "vscode": {
   "interpreter": {
    "hash": "669bca2b7255614eb966cdff6e6d05916dced638cbe111d2c59696f28f86c1c2"
   }
  }
 },
 "nbformat": 4,
 "nbformat_minor": 2
}
