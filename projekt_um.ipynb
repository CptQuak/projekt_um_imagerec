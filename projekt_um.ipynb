{
 "cells": [
  {
   "cell_type": "code",
   "execution_count": 122,
   "metadata": {},
   "outputs": [],
   "source": [
    "import torch\n",
    "from torch.utils.data import DataLoader\n",
    "from torchvision import transforms\n",
    "from torchvision.datasets import ImageFolder\n",
    "from torch import nn\n",
    "import numpy as np\n",
    "import matplotlib.pyplot as plt\n",
    "import utils\n",
    "\n",
    "torch.manual_seed(42069)\n",
    "# if gpu available else cpu\n",
    "device = torch.device(0) if torch.cuda.is_available() else torch.device('cpu')\n",
    "TRAIN_MEAN = [0.5036, 0.4719, 0.3897]\n",
    "TRAIN_STD = [0.2623, 0.2577, 0.2671]\n",
    "classes = ['butterfly','cat', 'chicken', 'cow', 'dog', 'elephant', 'horse', 'sheep', 'spider', 'squirrel']"
   ]
  },
  {
   "attachments": {},
   "cell_type": "markdown",
   "metadata": {},
   "source": [
    "## Przygotowanie danych"
   ]
  },
  {
   "cell_type": "code",
   "execution_count": 123,
   "metadata": {},
   "outputs": [],
   "source": [
    "# zdefiniowanie operacji na kazdym obrazie w zbiorze\n",
    "transform = transforms.Compose([\n",
    "    transforms.RandomResizedCrop(64),  #  na 256x256\n",
    "    transforms.RandomHorizontalFlip(),  # wycinamy losowy fragment 128x128\n",
    "    transforms.ToTensor(),              # obrazy zamieniamy na tensory,\n",
    "    # srednie i odchylenia po kanałach całęgo zbioru,\n",
    "    #  wyliczone wczesniej za pomocą utils.data_normalize_values\n",
    "    transforms.Normalize(TRAIN_MEAN, TRAIN_STD)\n",
    "])\n",
    "\n",
    "# loader danych z batchami\n",
    "train_data = ImageFolder(root='dataset/train/', transform=transform)\n",
    "test_data = ImageFolder(root='dataset/test/', transform=transform)\n",
    "batch_size = 32\n",
    "train_loader = DataLoader(train_data, batch_size=batch_size, shuffle=True)\n",
    "test_loader = DataLoader(test_data, batch_size=batch_size)"
   ]
  },
  {
   "cell_type": "code",
   "execution_count": 124,
   "metadata": {},
   "outputs": [],
   "source": [
    "class LeNet(nn.Module):\n",
    "    def __init__(self, num_classes=len(classes)):\n",
    "        super(LeNet, self).__init__()\n",
    "        self.feature_extractor = nn.Sequential(\n",
    "            nn.Conv2d(in_channels=3, out_channels=16, kernel_size=5, padding=3),\n",
    "            nn.ReLU(inplace=True),\n",
    "            nn.AvgPool2d(kernel_size=2),\n",
    "            nn.Conv2d(in_channels=16, out_channels=128, kernel_size=5, padding=3),\n",
    "            nn.ReLU(inplace=True),\n",
    "            nn.AvgPool2d(kernel_size=2),\n",
    "            nn.Conv2d(in_channels=128, out_channels=256, kernel_size=3, padding=1, stride=5),\n",
    "            nn.ReLU(inplace=True),\n",
    "            nn.MaxPool2d(kernel_size=4),\n",
    "            \n",
    "        )\n",
    "        self.classifier = nn.Sequential(\n",
    "            nn.Linear(in_features=256, out_features=32),\n",
    "            nn.ReLU(inplace=True),\n",
    "        )\n",
    "        self.fc = nn.Linear(in_features=32, out_features=num_classes)\n",
    "\n",
    "    def forward(self, x):\n",
    "        x = self.feature_extractor(x)\n",
    "        x = torch.flatten(x, 1)\n",
    "        x = self.classifier(x)\n",
    "        return self.fc(x)"
   ]
  },
  {
   "attachments": {},
   "cell_type": "markdown",
   "metadata": {},
   "source": [
    "## Uczenie klasyfikatora"
   ]
  },
  {
   "cell_type": "code",
   "execution_count": 125,
   "metadata": {},
   "outputs": [
    {
     "name": "stdout",
     "output_type": "stream",
     "text": [
      "Progress: 1/15 epochs\n",
      "Epoch: 1, Loss 2.211, Train acc: 0.199, Test acc: 0.223\n",
      "Progress: 2/15 epochs\n",
      "Epoch: 2, Loss 2.156, Train acc: 0.234, Test acc: 0.232\n",
      "Progress: 3/15 epochs\n",
      "Epoch: 3, Loss 2.112, Train acc: 0.255, Test acc: 0.26\n",
      "Progress: 4/15 epochs\n",
      "Epoch: 4, Loss 2.066, Train acc: 0.272, Test acc: 0.282\n",
      "Progress: 5/15 epochs\n",
      "Epoch: 5, Loss 2.012, Train acc: 0.289, Test acc: 0.295\n",
      "Progress: 6/15 epochs\n",
      "Epoch: 6, Loss 1.959, Train acc: 0.31, Test acc: 0.279\n",
      "Progress: 7/15 epochs\n",
      "Epoch: 7, Loss 1.905, Train acc: 0.325, Test acc: 0.342\n",
      "Progress: 8/15 epochs\n",
      "Epoch: 8, Loss 1.86, Train acc: 0.348, Test acc: 0.352\n",
      "Progress: 9/15 epochs\n",
      "Epoch: 9, Loss 1.816, Train acc: 0.364, Test acc: 0.368\n",
      "Progress: 10/15 epochs\n",
      "Epoch: 10, Loss 1.784, Train acc: 0.375, Test acc: 0.394\n",
      "Progress: 11/15 epochs\n",
      "Epoch: 11, Loss 1.741, Train acc: 0.393, Test acc: 0.392\n",
      "Progress: 12/15 epochs\n",
      "Epoch: 12, Loss 1.718, Train acc: 0.404, Test acc: 0.395\n",
      "Progress: 13/15 epochs\n",
      "Epoch: 13, Loss 1.678, Train acc: 0.412, Test acc: 0.436\n",
      "Progress: 14/15 epochs\n",
      "Epoch: 14, Loss 1.654, Train acc: 0.423, Test acc: 0.426\n",
      "Progress: 15/15 epochs\n",
      "Epoch: 15, Loss 1.631, Train acc: 0.435, Test acc: 0.435\n"
     ]
    }
   ],
   "source": [
    "# RESNET18 z wagami przetrenowanymi na zbiorze IMAGENET\n",
    "le_net = LeNet()\n",
    "# inicjalizacja wag w warstwie wyjsciowej\n",
    "for name, params in le_net.named_parameters():\n",
    "    if params.ndim>2:\n",
    "        nn.init.xavier_uniform_(params)\n",
    "        \n",
    "le_net = le_net.to(device)\n",
    "metrics = utils.train_fine_tuning(\n",
    "    model = le_net, \n",
    "    learning_rate= 5e-4, \n",
    "    train_loader=train_loader,\n",
    "    test_loader=test_loader,\n",
    "    device=device, num_epochs=15, param_group=False\n",
    ")"
   ]
  }
 ],
 "metadata": {
  "kernelspec": {
   "display_name": "Python 3.9.13 ('pytorch')",
   "language": "python",
   "name": "python3"
  },
  "language_info": {
   "codemirror_mode": {
    "name": "ipython",
    "version": 3
   },
   "file_extension": ".py",
   "mimetype": "text/x-python",
   "name": "python",
   "nbconvert_exporter": "python",
   "pygments_lexer": "ipython3",
   "version": "3.9.13"
  },
  "orig_nbformat": 4,
  "vscode": {
   "interpreter": {
    "hash": "669bca2b7255614eb966cdff6e6d05916dced638cbe111d2c59696f28f86c1c2"
   }
  }
 },
 "nbformat": 4,
 "nbformat_minor": 2
}
